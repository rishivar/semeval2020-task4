{
 "cells": [
  {
   "cell_type": "code",
   "execution_count": 6,
   "metadata": {},
   "outputs": [],
   "source": [
    "import pandas as pd"
   ]
  },
  {
   "cell_type": "code",
   "execution_count": 8,
   "metadata": {},
   "outputs": [],
   "source": [
    "df1 = pd.read_csv('Model outputs/bertpp.csv', index_col = 0)\n",
    "df2 = pd.read_csv('Model outputs/xlnetpp.csv', index_col = 0)\n",
    "df3 = pd.read_csv('Model outputs/microtcpp.csv', index_col = 0)"
   ]
  },
  {
   "cell_type": "code",
   "execution_count": null,
   "metadata": {},
   "outputs": [],
   "source": [
    "df = pd.merge(df1, df2, how = 'inner', on = 'in') #in refers to index\n",
    "df = pd.merge(df, df3, how = 'inner', on = 'in')\n",
    "df"
   ]
  },
  {
   "cell_type": "code",
   "execution_count": 45,
   "metadata": {},
   "outputs": [
    {
     "data": {
      "text/html": [
       "<div>\n",
       "<style scoped>\n",
       "    .dataframe tbody tr th:only-of-type {\n",
       "        vertical-align: middle;\n",
       "    }\n",
       "\n",
       "    .dataframe tbody tr th {\n",
       "        vertical-align: top;\n",
       "    }\n",
       "\n",
       "    .dataframe thead th {\n",
       "        text-align: right;\n",
       "    }\n",
       "</style>\n",
       "<table border=\"1\" class=\"dataframe\">\n",
       "  <thead>\n",
       "    <tr style=\"text-align: right;\">\n",
       "      <th></th>\n",
       "      <th>tar</th>\n",
       "    </tr>\n",
       "    <tr>\n",
       "      <th>in</th>\n",
       "      <th></th>\n",
       "    </tr>\n",
       "  </thead>\n",
       "  <tbody>\n",
       "    <tr>\n",
       "      <td>0</td>\n",
       "      <td>A</td>\n",
       "    </tr>\n",
       "    <tr>\n",
       "      <td>1</td>\n",
       "      <td>B</td>\n",
       "    </tr>\n",
       "    <tr>\n",
       "      <td>2</td>\n",
       "      <td>A</td>\n",
       "    </tr>\n",
       "    <tr>\n",
       "      <td>3</td>\n",
       "      <td>C</td>\n",
       "    </tr>\n",
       "    <tr>\n",
       "      <td>4</td>\n",
       "      <td>A</td>\n",
       "    </tr>\n",
       "    <tr>\n",
       "      <td>...</td>\n",
       "      <td>...</td>\n",
       "    </tr>\n",
       "    <tr>\n",
       "      <td>2016</td>\n",
       "      <td>B</td>\n",
       "    </tr>\n",
       "    <tr>\n",
       "      <td>2017</td>\n",
       "      <td>B</td>\n",
       "    </tr>\n",
       "    <tr>\n",
       "      <td>2018</td>\n",
       "      <td>B</td>\n",
       "    </tr>\n",
       "    <tr>\n",
       "      <td>2019</td>\n",
       "      <td>B</td>\n",
       "    </tr>\n",
       "    <tr>\n",
       "      <td>2020</td>\n",
       "      <td>C</td>\n",
       "    </tr>\n",
       "  </tbody>\n",
       "</table>\n",
       "<p>2021 rows × 1 columns</p>\n",
       "</div>"
      ],
      "text/plain": [
       "     tar\n",
       "in      \n",
       "0      A\n",
       "1      B\n",
       "2      A\n",
       "3      C\n",
       "4      A\n",
       "...   ..\n",
       "2016   B\n",
       "2017   B\n",
       "2018   B\n",
       "2019   B\n",
       "2020   C\n",
       "\n",
       "[2021 rows x 1 columns]"
      ]
     },
     "execution_count": 45,
     "metadata": {},
     "output_type": "execute_result"
    }
   ],
   "source": [
    "def func(r):\n",
    "    if(r['bertb'] == r['xlb'] == r['micro']):\n",
    "        return r['xlb']\n",
    "    elif(r['bertb'] != r['xlb']):\n",
    "        if(r['berta'] > r['xla']):\n",
    "            return r['bertb']\n",
    "        else:\n",
    "            return r['xlb']\n",
    "    elif(r['bertb'] != r['microb']):\n",
    "        if(r['berta'] > r['microa']):\n",
    "            return r['bertb']\n",
    "        else:\n",
    "            return r['microb']\n",
    "    elif(r['xlb'] != r['microb']):\n",
    "        if(r['microa'] > r['xla']):\n",
    "            return r['microa']\n",
    "        else:\n",
    "            return r['xlb']\n",
    "        \n",
    "final = pd.DataFrame()\n",
    "final['tar'] = df.apply(lambda r: func(r), axis = 1)\n",
    "final"
   ]
  },
  {
   "cell_type": "code",
   "execution_count": 46,
   "metadata": {},
   "outputs": [],
   "source": [
    "temp = pd.read_csv('Test Data/subtaskB_test_data.csv') # For matching ID's for respective rows whilst Evaluation phase\n",
    "final['in'] = temp['id']\n",
    "\n",
    "final.to_csv('subtaskB_answers.csv', index = True, header = False)\n",
    "\n",
    "!zip -r 'subtaskB_answers.csv' 'submission.zip' # For website submission"
   ]
  }
 ],
 "metadata": {
  "kernelspec": {
   "display_name": "Python 3",
   "language": "python",
   "name": "python3"
  },
  "language_info": {
   "codemirror_mode": {
    "name": "ipython",
    "version": 3
   },
   "file_extension": ".py",
   "mimetype": "text/x-python",
   "name": "python",
   "nbconvert_exporter": "python",
   "pygments_lexer": "ipython3",
   "version": "3.7.4"
  }
 },
 "nbformat": 4,
 "nbformat_minor": 2
}
