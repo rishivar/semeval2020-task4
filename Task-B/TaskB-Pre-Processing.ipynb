{
 "cells": [
  {
   "cell_type": "code",
   "execution_count": 12,
   "metadata": {},
   "outputs": [],
   "source": [
    "import pandas as pd"
   ]
  },
  {
   "cell_type": "code",
   "execution_count": 13,
   "metadata": {},
   "outputs": [],
   "source": [
    "devd = pd.read_csv('Dev Data/subtaskB_dev_data.csv', index_col = 0)\n",
    "traind = pd.read_csv('Training  Data/subtaskB_data_all.csv', index_col = 0)\n",
    "triald = pd.read_csv('Trial Data/taskB_trial_data.csv', index_col = 0)\n",
    "\n",
    "test = pd.read_csv('Test Data/subtaskB_test_data.csv')\n",
    "\n",
    "deva = pd.read_csv('Dev Data/subtaskB_gold_answers.csv', index_col = 0)\n",
    "traina = pd.read_csv('Training  Data/subtaskB_answers_all.csv', index_col = 0)\n",
    "triala = pd.read_csv('Trial Data/taskB_trial_answer.csv', index_col = 0)"
   ]
  },
  {
   "cell_type": "code",
   "execution_count": 14,
   "metadata": {},
   "outputs": [],
   "source": [
    "train = pd.merge(traind, traina, on='id', how='inner')\n",
    "trial = pd.merge(triald, triala, on='id', how='inner')\n",
    "dev = pd.merge(devd, deva, on='id', how = 'inner')\n",
    "\n",
    "train['id'] = train.index\n",
    "dev['id'] = dev.index\n",
    "trial['id'] = trial.index"
   ]
  },
  {
   "cell_type": "code",
   "execution_count": 15,
   "metadata": {},
   "outputs": [],
   "source": [
    "def func(df):  \n",
    "    \n",
    "    col_names=['text', 'klass']\n",
    "    \n",
    "    temp = pd.DataFrame()\n",
    "    temp = pd.DataFrame(columns=col_names)\n",
    "\n",
    "    for index,row in df.iterrows():\n",
    "        arow={'klass':row['ans'],'text':str(row['FalseSent']+'<eol>.'+str(row['OptionA']))}\n",
    "        temp = temp.append(arow, ignore_index=True)\n",
    "        brow={'klass':row['ans'],'text':str(row['FalseSent']+'<eol>.'+str(row['OptionB']))}\n",
    "        temp = temp.append(brow, ignore_index=True)\n",
    "        crow={'klass':row['ans'],'text':str(row['FalseSent']+'<eol>.'+str(row['OptionC']))}\n",
    "        temp = temp.append(crow, ignore_index=True)\n",
    "        \n",
    "    c='C'\n",
    "    \n",
    "    for index,row in temp.iterrows():\n",
    "        if(c=='C'):\n",
    "            c='A'\n",
    "        elif(c=='A'):\n",
    "            c='B'\n",
    "        elif(c=='B'):\n",
    "            c='C'\n",
    "        if(row['klass']==c):\n",
    "            temp.at[index,'klass']=1\n",
    "        else:\n",
    "            temp.at[index,'klass']=0\n",
    "            \n",
    "    return temp"
   ]
  },
  {
   "cell_type": "code",
   "execution_count": null,
   "metadata": {},
   "outputs": [],
   "source": [
    "train = func(train)\n",
    "dev = func(dev)\n",
    "trial = func(trial)"
   ]
  },
  {
   "cell_type": "code",
   "execution_count": 20,
   "metadata": {},
   "outputs": [],
   "source": [
    "test = pd.read_csv('Test Data/subtaskB_test_data.csv')\n",
    "\n",
    "\n",
    "col_names=['text']\n",
    "temp=pd.DataFrame(columns=col_names)\n",
    "\n",
    "for index,row in test.iterrows():\n",
    "    arow={'text':str(row['FalseSent'])+'<eol>.'+str(row['OptionA'])}\n",
    "    temp = temp.append(arow, ignore_index=True)\n",
    "    brow={'text':str(row['FalseSent'])+'<eol>.'+str(row['OptionB'])}\n",
    "    temp = temp.append(brow, ignore_index=True)\n",
    "    crow={'text':str(row['FalseSent'])+'<eol>.'+str(row['OptionC'])}\n",
    "    temp = temp.append(crow, ignore_index=True)\n",
    "    \n",
    "test = temp\n",
    "test.to_json('test.json', orient = 'records')"
   ]
  },
  {
   "cell_type": "code",
   "execution_count": 24,
   "metadata": {},
   "outputs": [],
   "source": [
    "temp = pd.concat([train, dev, trial])\n",
    "\n",
    "temp.to_json('train.json', orient = 'records')"
   ]
  },
  {
   "cell_type": "code",
   "execution_count": 29,
   "metadata": {},
   "outputs": [],
   "source": [
    "import json\n",
    "\n",
    "def confunc(l):\n",
    "    for i in l:    \n",
    "        with open(i, \"r\") as read_file:\n",
    "            data = json.load(read_file)\n",
    "        result = [json.dumps(record) for record in data]\n",
    "        with open(i, 'w') as obj:\n",
    "            for i in result:\n",
    "                obj.write(i+'\\n')"
   ]
  },
  {
   "cell_type": "code",
   "execution_count": 31,
   "metadata": {},
   "outputs": [],
   "source": [
    "temp = pd.concat([train, dev])\n",
    "temp.to_json('train.json', orient = 'records')\n",
    "del trial['klass']\n",
    "trial.to_json('test.json', orient = 'records')\n",
    "confunc(['train.json', 'test.json'])"
   ]
  }
 ],
 "metadata": {
  "kernelspec": {
   "display_name": "Python 3",
   "language": "python",
   "name": "python3"
  },
  "language_info": {
   "codemirror_mode": {
    "name": "ipython",
    "version": 3
   },
   "file_extension": ".py",
   "mimetype": "text/x-python",
   "name": "python",
   "nbconvert_exporter": "python",
   "pygments_lexer": "ipython3",
   "version": "3.7.4"
  }
 },
 "nbformat": 4,
 "nbformat_minor": 2
}
